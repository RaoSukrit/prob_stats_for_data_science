{
 "cells": [
  {
   "cell_type": "code",
   "execution_count": null,
   "id": "clinical-breed",
   "metadata": {},
   "outputs": [],
   "source": [
    "import numpy as np\n",
    "import matplotlib.pyplot as plt\n",
    "import os.path\n",
    "\n",
    "# load data\n",
    "data = np.load(\"./data/heart_disease_data.npz\") \n",
    "\n",
    "def ind_x_eq_val(x, val):\n",
    "    return np.where(x==val)[0]\n",
    "\n",
    "def count_x_eq_val(x, val):\n",
    "    return len(ind_x_eq_val(x, val))/float(len(x))\n",
    "    \n",
    "def gaussian(x, mu, sig):\n",
    "    return np.exp(-np.power(x - mu, 2.) / (2 * np.power(sig, 2.))) / sig / np.sqrt(2 * np.pi)"
   ]
  },
  {
   "cell_type": "markdown",
   "id": "selected-inquiry",
   "metadata": {},
   "source": [
    "### QUESTION (b) \n",
    "####  **Non-parametric model** Compute empirical pmf, derive the conditional pmf, and estimate the MAP decision by the mode of posterior distribution $p_{\\tilde{h} \\mid \\tilde{s},\\tilde{c}}$. (The MAP estimates should be $\\tilde{h}=0 \\text{ or } 1$)"
   ]
  },
  {
   "cell_type": "code",
   "execution_count": 5,
   "id": "arabic-modern",
   "metadata": {},
   "outputs": [],
   "source": [
    "# Estimate the pmf of H, i.e. P(H=0) and P(H=1)\n",
    "P_H0 = ### INSERT CODE HERE ###\n",
    "P_H1 = ### INSERT CODE HERE ###\n",
    "\n",
    "# Estimate the conditional pmf of S given H, i.e. P(S|H=0) and P(S|H=1)\n",
    "P_S_H0 = np.zeros(2)\n",
    "P_S_H1 = np.zeros(2)\n",
    "for ind_S in range(2):\n",
    "    P_S_H0[ind_S] = ### INSERT CODE HERE ### \n",
    "    P_S_H1[ind_S] = ### INSERT CODE HERE ### \n",
    "\n",
    "# Estimate the conditional pmf of C given H, i.e. P(C|H=0) and P(C|H=1)\n",
    "P_C_H0 = np.zeros(4)\n",
    "P_C_H1 = np.zeros(4)\n",
    "for ind_C in range(4):\n",
    "    P_C_H0[ind_C] = ### INSERT CODE HERE ###\n",
    "    P_C_H1[ind_C] = ### INSERT CODE HERE ###\n",
    "\n",
    "# Calculate the MAP estimate\n",
    "MAP_estimate_S_C = ### INSERT CODE HERE ###\n",
    "\n",
    "# Calculate the error rate - i.e. the proportion of all predictions that were incorrect\n",
    "error_rate_S_C = ### INSERT CODE HERE ###\n",
    "\n",
    "print(\"Probability of error \" + str(error_rate_S_C))"
   ]
  },
  {
   "cell_type": "markdown",
   "id": "ceramic-interest",
   "metadata": {},
   "source": [
    "### QUESTION (d)\n",
    "#### **Maximum likelihood estimates** Find the parameters of two normal distributions ($\\tilde{x}|\\tilde{h}=1$ and $\\tilde{x}|\\tilde{h}=0$) that maximize the likelihood functions."
   ]
  },
  {
   "cell_type": "code",
   "execution_count": null,
   "id": "capable-approach",
   "metadata": {},
   "outputs": [],
   "source": [
    "## Estimate MLE of X given H\n",
    "mean_X_H = np.zeros(2)\n",
    "std_X_H = np.zeros(2)\n",
    "mean_X_H[0]= ### INSERT CODE HERE ###\n",
    "std_X_H[0] = ### INSERT CODE HERE ###\n",
    "mean_X_H[1]= ### INSERT CODE HERE ###\n",
    "std_X_H[1] = ### INSERT CODE HERE ###\n",
    "\n",
    "n_plot = 100\n",
    "for i in range(2):\n",
    "    plt.figure(figsize=(12, 9))  \n",
    "    ax = plt.subplot(111)    \n",
    "    ax.spines[\"top\"].set_visible(False)    \n",
    "    ax.spines[\"right\"].set_visible(False)    \n",
    "    ax.get_xaxis().tick_bottom()  \n",
    "    ax.get_yaxis().tick_left() \n",
    "    yticks = ax.yaxis.get_major_ticks()\n",
    "    yticks[0].label1.set_visible(False) \n",
    "    plt.xticks(fontsize=22) \n",
    "    plt.yticks(fontsize=22) \n",
    "    plt.xlabel(\"Cholesterol\", fontsize=22)  \n",
    "    \n",
    "    plt.hist(### INSERT CODE HERE ###,\n",
    "             60,normed=True,edgecolor = \"none\", color=\"skyblue\")\n",
    "    \n",
    "    plt.plot(np.linspace(50, 450, n_plot),gaussian(np.linspace(50, 450, n_plot), \n",
    "                     mean_X_H[i], std_X_H[i]), color=\"darkred\", lw=2)"
   ]
  },
  {
   "cell_type": "markdown",
   "id": "pointed-validation",
   "metadata": {},
   "source": [
    "### QUESTION(e)\n",
    "\n",
    "#### **MAP decision** compute posterior $p_{\\tilde{h} \\mid \\tilde{s},\\tilde{c}, \\tilde{x}}$ and derive MAP"
   ]
  },
  {
   "cell_type": "code",
   "execution_count": 7,
   "id": "metropolitan-scout",
   "metadata": {},
   "outputs": [],
   "source": [
    "# Calculate the MAP estimate\n",
    "MAP_estimate_S_C_X = ### INSERT CODE HERE ###\n",
    "\n",
    "# Calculate the error rate\n",
    "error_rate_S_C_X = ### INSERT CODE HERE ###\n",
    "print(\"Probability of error using cholesterol \" + str(error_rate_S_C_X))"
   ]
  },
  {
   "cell_type": "code",
   "execution_count": null,
   "id": "above-testament",
   "metadata": {},
   "outputs": [],
   "source": []
  }
 ],
 "metadata": {
  "kernelspec": {
   "display_name": "Python 3",
   "language": "python",
   "name": "python3"
  },
  "language_info": {
   "codemirror_mode": {
    "name": "ipython",
    "version": 3
   },
   "file_extension": ".py",
   "mimetype": "text/x-python",
   "name": "python",
   "nbconvert_exporter": "python",
   "pygments_lexer": "ipython3",
   "version": "3.7.6"
  }
 },
 "nbformat": 4,
 "nbformat_minor": 5
}
